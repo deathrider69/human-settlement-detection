{
 "cells": [
  {
   "cell_type": "markdown",
   "id": "3e0018fb-f29e-4c6a-a713-c9f82ff0a440",
   "metadata": {},
   "source": [
    "### Import libraries"
   ]
  },
  {
   "cell_type": "code",
   "execution_count": 1,
   "id": "41440b7f-1caa-40f2-b113-43e7e671de7a",
   "metadata": {},
   "outputs": [],
   "source": [
    "import numpy as np\n",
    "import h5py\n",
    "import pandas as pd"
   ]
  },
  {
   "cell_type": "markdown",
   "id": "be4dd2d8-2e6b-4db0-b396-f8b870a0e68a",
   "metadata": {},
   "source": [
    "### Load data for machine learning"
   ]
  },
  {
   "cell_type": "code",
   "execution_count": 2,
   "id": "24c54df6-8a25-4920-9cce-0a85394c65d0",
   "metadata": {},
   "outputs": [
    {
     "name": "stdout",
     "output_type": "stream",
     "text": [
      "Shape of X (images): (1100000, 16, 16, 6)\n",
      "Shape of y (labels): (1100000,)\n",
      "Shape of X_test (images): (120000, 16, 16, 6)\n"
     ]
    }
   ],
   "source": [
    "# Path to your HDF5 file\n",
    "hdf5_file = \"train_data.h5\"\n",
    "\n",
    "# Open the HDF5 file\n",
    "with h5py.File(hdf5_file, 'r') as hdf:\n",
    "    # Extract the images (X)\n",
    "    X = np.array(hdf['images'])\n",
    "    \n",
    "    # Extract the labels (y)\n",
    "    y = np.array(hdf['labels'])\n",
    "\n",
    "# Check the shapes to ensure they are correct\n",
    "print(\"Shape of X (images):\", X.shape)\n",
    "print(\"Shape of y (labels):\", y.shape)\n",
    "\n",
    "hdf5_file_test = \"test_data.h5\"\n",
    "# Open the HDF5 file\n",
    "with h5py.File(hdf5_file_test, 'r') as hdf:\n",
    "    # Extract the images (X)\n",
    "    X_test = np.array(hdf['images'])\n",
    "\n",
    "# Check the shapes to ensure they are correct\n",
    "print(\"Shape of X_test (images):\", X_test.shape)"
   ]
  },
  {
   "cell_type": "markdown",
   "id": "9f04b6fc",
   "metadata": {},
   "source": [
    "### Visualizing the data"
   ]
  },
  {
   "cell_type": "code",
   "execution_count": null,
   "id": "1082e76c",
   "metadata": {},
   "outputs": [],
   "source": []
  },
  {
   "cell_type": "markdown",
   "id": "77ee615f-a496-4c17-b188-5f1d38ee96a8",
   "metadata": {},
   "source": [
    "### Balance data"
   ]
  },
  {
   "cell_type": "code",
   "execution_count": 3,
   "id": "cf89543b-2b49-4fc1-812b-18166da0553a",
   "metadata": {},
   "outputs": [
    {
     "name": "stdout",
     "output_type": "stream",
     "text": [
      "Number of 1's in balanced y: 100000\n",
      "Number of 0's in balanced y: 100000\n"
     ]
    }
   ],
   "source": [
    "# Step 1: Count the number of 1's in y\n",
    "num_ones = np.sum(y == 1)\n",
    "\n",
    "# Step 2: Get indices of 0's and 1's in y\n",
    "ones_indices = np.where(y == 1)[0]\n",
    "zeros_indices = np.where(y == 0)[0]\n",
    "\n",
    "# Step 3: Randomly sample the same number of 0's as there are 1's\n",
    "balanced_zero_indices = np.random.choice(zeros_indices, num_ones, replace=False)\n",
    "\n",
    "# Step 4: Combine indices of 0's and 1's\n",
    "balanced_indices = np.concatenate([ones_indices, balanced_zero_indices])\n",
    "\n",
    "# Step 5: Create balanced X and y\n",
    "X_balanced = X[balanced_indices]\n",
    "y_balanced = y[balanced_indices]\n",
    "\n",
    "# Display the number of 0's and 1's in the balanced y\n",
    "print(f\"Number of 1's in balanced y: {np.sum(y_balanced == 1)}\")\n",
    "print(f\"Number of 0's in balanced y: {np.sum(y_balanced == 0)}\")"
   ]
  },
  {
   "cell_type": "code",
   "execution_count": 4,
   "id": "b2f901ca-e28d-44c9-8a4a-fdf45d82880d",
   "metadata": {},
   "outputs": [],
   "source": [
    "from sklearn.utils import shuffle\n",
    "# Shuffle both X_balanced and y_balanced together\n",
    "X_train, y_train = shuffle(X_balanced, y_balanced, random_state=1)\n"
   ]
  },
  {
   "cell_type": "code",
   "execution_count": null,
   "id": "a5ce4ddf-eda2-4c5c-9b89-8bac4088c0ab",
   "metadata": {},
   "outputs": [],
   "source": []
  },
  {
   "cell_type": "code",
   "execution_count": 5,
   "id": "c586387a-076e-43d5-98a4-20ccdee287a7",
   "metadata": {},
   "outputs": [
    {
     "name": "stdout",
     "output_type": "stream",
     "text": [
      "(200000, 16, 16, 6)\n",
      "(120000, 16, 16, 6)\n"
     ]
    }
   ],
   "source": [
    "print(X_train.shape)\n",
    "print(X_test.shape)"
   ]
  },
  {
   "cell_type": "markdown",
   "id": "6ffb6798-0d92-4654-ae49-796c426339bf",
   "metadata": {},
   "source": [
    "### Baseline models\n",
    "#### Random Forest"
   ]
  },
  {
   "cell_type": "code",
   "execution_count": 6,
   "id": "4b84b0f6-20b8-417c-8727-fb88d29870c5",
   "metadata": {},
   "outputs": [
    {
     "name": "stdout",
     "output_type": "stream",
     "text": [
      "Baseline RF model training accuracy: 0.9999\n"
     ]
    }
   ],
   "source": [
    "from sklearn.ensemble import RandomForestClassifier\n",
    "from sklearn.metrics import accuracy_score\n",
    "from sklearn.model_selection import train_test_split\n",
    "\n",
    "# Flatten the image data\n",
    "X_train_flat = X_train.reshape(X_train.shape[0], -1)  \n",
    "X_test_flat = X_test.reshape(X_test.shape[0], -1)  \n",
    "\n",
    "# Define and train the baseline model\n",
    "rf = RandomForestClassifier(n_estimators=50, random_state=42)\n",
    "rf.fit(X_train_flat, y_train)\n",
    "\n",
    "y_pred_train = rf.predict(X_train_flat)\n",
    "y_pred_test = rf.predict(X_test_flat)\n",
    "\n",
    "\n",
    "# Evaluate the model\n",
    "train_accuracy_rf = accuracy_score(y_train, y_pred_train)\n",
    "\n",
    "## 0.9999 accuracy: OVERFITTING\n",
    "print(f'Baseline RF model training accuracy: {train_accuracy_rf:.4f}')\n"
   ]
  },
  {
   "cell_type": "code",
   "execution_count": null,
   "id": "7da25bcf-660e-4cc5-82b1-68be1f7ee44a",
   "metadata": {},
   "outputs": [],
   "source": []
  },
  {
   "cell_type": "markdown",
   "id": "669abbec-1080-48fa-bf2f-de9ae47d7ee6",
   "metadata": {},
   "source": [
    "#### Multi layer perceptron"
   ]
  },
  {
   "cell_type": "code",
   "execution_count": 7,
   "id": "d61eb7c7-936c-40dd-a928-c6a05604a7f7",
   "metadata": {},
   "outputs": [
    {
     "name": "stderr",
     "output_type": "stream",
     "text": [
      "/usr/local/lib/python3.8/dist-packages/sklearn/neural_network/_multilayer_perceptron.py:692: ConvergenceWarning: Stochastic Optimizer: Maximum iterations (20) reached and the optimization hasn't converged yet.\n",
      "  warnings.warn(\n"
     ]
    },
    {
     "name": "stdout",
     "output_type": "stream",
     "text": [
      "Baseline MLP model training accuracy: 0.6053\n"
     ]
    }
   ],
   "source": [
    "from sklearn.neural_network import MLPClassifier\n",
    "from sklearn.preprocessing import StandardScaler\n",
    "from sklearn.preprocessing import MinMaxScaler\n",
    "from sklearn.metrics import accuracy_score\n",
    "\n",
    "# Flatten the image data\n",
    "X_train_flat = X_train.reshape(X_train.shape[0], -1)  \n",
    "X_test_flat = X_test.reshape(X_test.shape[0], -1)\n",
    "\n",
    "# Scale the data to [0,1]\n",
    "scaler = MinMaxScaler()\n",
    "X_train_scaled = scaler.fit_transform(X_train_flat)\n",
    "X_test_scaled = scaler.transform(X_test_flat)\n",
    "\n",
    "# Define and train the MLP model\n",
    "mlp_model = MLPClassifier(hidden_layer_sizes=(50,), max_iter=20, random_state=42)\n",
    "mlp_model.fit(X_train_scaled, y_train)\n",
    "\n",
    "# Predict on the test set\n",
    "y_pred_train_mlp = mlp_model.predict(X_train_scaled)\n",
    "y_pred_test_mlp = mlp_model.predict(X_test_scaled)\n",
    "\n",
    "\n",
    "# Evaluate the model\n",
    "train_accuracy_mlp = accuracy_score(y_train, y_pred_train_mlp)\n",
    "\n",
    "\n",
    "## ~0.60 accuracy: UNDERFITTING\n",
    "print(f'Baseline MLP model training accuracy: {train_accuracy_mlp:.4f}')\n",
    "\n",
    "\n"
   ]
  },
  {
   "cell_type": "code",
   "execution_count": null,
   "id": "eccfc4fc-c4fd-4410-b34e-b01c5c732482",
   "metadata": {},
   "outputs": [],
   "source": []
  }
 ],
 "metadata": {
  "kernelspec": {
   "display_name": "venv",
   "language": "python",
   "name": "python3"
  },
  "language_info": {
   "codemirror_mode": {
    "name": "ipython",
    "version": 3
   },
   "file_extension": ".py",
   "mimetype": "text/x-python",
   "name": "python",
   "nbconvert_exporter": "python",
   "pygments_lexer": "ipython3",
   "version": "3.12.1"
  }
 },
 "nbformat": 4,
 "nbformat_minor": 5
}
