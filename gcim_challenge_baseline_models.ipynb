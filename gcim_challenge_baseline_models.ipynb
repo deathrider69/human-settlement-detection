{
 "cells": [
  {
   "cell_type": "markdown",
   "id": "3e0018fb-f29e-4c6a-a713-c9f82ff0a440",
   "metadata": {},
   "source": [
    "### Import libraries"
   ]
  },
  {
   "cell_type": "code",
   "execution_count": 4,
   "id": "cf12b6d3",
   "metadata": {},
   "outputs": [
    {
     "name": "stdout",
     "output_type": "stream",
     "text": [
      "Collecting matplotlib\n",
      "  Obtaining dependency information for matplotlib from https://files.pythonhosted.org/packages/b1/79/0d1c165eac44405a86478082e225fce87874f7198300bbebc55faaf6d28d/matplotlib-3.10.3-cp312-cp312-win_amd64.whl.metadata\n",
      "  Using cached matplotlib-3.10.3-cp312-cp312-win_amd64.whl.metadata (11 kB)\n",
      "Collecting contourpy>=1.0.1 (from matplotlib)\n",
      "  Obtaining dependency information for contourpy>=1.0.1 from https://files.pythonhosted.org/packages/01/c8/fadd0b92ffa7b5eb5949bf340a63a4a496a6930a6c37a7ba0f12acb076d6/contourpy-1.3.2-cp312-cp312-win_amd64.whl.metadata\n",
      "  Using cached contourpy-1.3.2-cp312-cp312-win_amd64.whl.metadata (5.5 kB)\n",
      "Collecting cycler>=0.10 (from matplotlib)\n",
      "  Obtaining dependency information for cycler>=0.10 from https://files.pythonhosted.org/packages/e7/05/c19819d5e3d95294a6f5947fb9b9629efb316b96de511b418c53d245aae6/cycler-0.12.1-py3-none-any.whl.metadata\n",
      "  Using cached cycler-0.12.1-py3-none-any.whl.metadata (3.8 kB)\n",
      "Collecting fonttools>=4.22.0 (from matplotlib)\n",
      "  Obtaining dependency information for fonttools>=4.22.0 from https://files.pythonhosted.org/packages/0e/4d/1eaaad22781d55f49d1b184563842172aeb6a4fe53c029e503be81114314/fonttools-4.58.5-cp312-cp312-win_amd64.whl.metadata\n",
      "  Downloading fonttools-4.58.5-cp312-cp312-win_amd64.whl.metadata (109 kB)\n",
      "     ---------------------------------------- 0.0/109.0 kB ? eta -:--:--\n",
      "     ---------------------------------------- 0.0/109.0 kB ? eta -:--:--\n",
      "     ---------------------------------------- 0.0/109.0 kB ? eta -:--:--\n",
      "     --- ------------------------------------ 10.2/109.0 kB ? eta -:--:--\n",
      "     ------------- ----------------------- 41.0/109.0 kB 495.5 kB/s eta 0:00:01\n",
      "     ------------------------------------ 109.0/109.0 kB 790.4 kB/s eta 0:00:00\n",
      "Collecting kiwisolver>=1.3.1 (from matplotlib)\n",
      "  Obtaining dependency information for kiwisolver>=1.3.1 from https://files.pythonhosted.org/packages/bd/72/dfff0cc97f2a0776e1c9eb5bef1ddfd45f46246c6533b0191887a427bca5/kiwisolver-1.4.8-cp312-cp312-win_amd64.whl.metadata\n",
      "  Using cached kiwisolver-1.4.8-cp312-cp312-win_amd64.whl.metadata (6.3 kB)\n",
      "Requirement already satisfied: numpy>=1.23 in d:\\users\\desktop\\satellite-itu\\venv\\lib\\site-packages (from matplotlib) (2.3.1)\n",
      "Requirement already satisfied: packaging>=20.0 in d:\\users\\desktop\\satellite-itu\\venv\\lib\\site-packages (from matplotlib) (25.0)\n",
      "Collecting pillow>=8 (from matplotlib)\n",
      "  Obtaining dependency information for pillow>=8 from https://files.pythonhosted.org/packages/8c/ce/e7dfc873bdd9828f3b6e5c2bbb74e47a98ec23cc5c74fc4e54462f0d9204/pillow-11.3.0-cp312-cp312-win_amd64.whl.metadata\n",
      "  Using cached pillow-11.3.0-cp312-cp312-win_amd64.whl.metadata (9.2 kB)\n",
      "Collecting pyparsing>=2.3.1 (from matplotlib)\n",
      "  Obtaining dependency information for pyparsing>=2.3.1 from https://files.pythonhosted.org/packages/05/e7/df2285f3d08fee213f2d041540fa4fc9ca6c2d44cf36d3a035bf2a8d2bcc/pyparsing-3.2.3-py3-none-any.whl.metadata\n",
      "  Using cached pyparsing-3.2.3-py3-none-any.whl.metadata (5.0 kB)\n",
      "Requirement already satisfied: python-dateutil>=2.7 in d:\\users\\desktop\\satellite-itu\\venv\\lib\\site-packages (from matplotlib) (2.9.0.post0)\n",
      "Requirement already satisfied: six>=1.5 in d:\\users\\desktop\\satellite-itu\\venv\\lib\\site-packages (from python-dateutil>=2.7->matplotlib) (1.17.0)\n",
      "Using cached matplotlib-3.10.3-cp312-cp312-win_amd64.whl (8.1 MB)\n",
      "Using cached contourpy-1.3.2-cp312-cp312-win_amd64.whl (223 kB)\n",
      "Using cached cycler-0.12.1-py3-none-any.whl (8.3 kB)\n",
      "Downloading fonttools-4.58.5-cp312-cp312-win_amd64.whl (2.2 MB)\n",
      "   ---------------------------------------- 0.0/2.2 MB ? eta -:--:--\n",
      "   --- ------------------------------------ 0.2/2.2 MB 6.3 MB/s eta 0:00:01\n",
      "   ------------ --------------------------- 0.7/2.2 MB 10.7 MB/s eta 0:00:01\n",
      "   -------------- ------------------------- 0.8/2.2 MB 7.5 MB/s eta 0:00:01\n",
      "   ----------------- ---------------------- 1.0/2.2 MB 6.3 MB/s eta 0:00:01\n",
      "   -------------------- ------------------- 1.1/2.2 MB 6.0 MB/s eta 0:00:01\n",
      "   -------------------- ------------------- 1.1/2.2 MB 6.0 MB/s eta 0:00:01\n",
      "   -------------------- ------------------- 1.1/2.2 MB 6.0 MB/s eta 0:00:01\n",
      "   --------------------- ------------------ 1.2/2.2 MB 3.8 MB/s eta 0:00:01\n",
      "   ------------------------ --------------- 1.4/2.2 MB 3.7 MB/s eta 0:00:01\n",
      "   ----------------------------- ---------- 1.6/2.2 MB 4.0 MB/s eta 0:00:01\n",
      "   ----------------------------------- ---- 2.0/2.2 MB 4.3 MB/s eta 0:00:01\n",
      "   -------------------------------------- - 2.1/2.2 MB 4.5 MB/s eta 0:00:01\n",
      "   ---------------------------------------  2.2/2.2 MB 4.3 MB/s eta 0:00:01\n",
      "   ---------------------------------------- 2.2/2.2 MB 4.2 MB/s eta 0:00:00\n",
      "Using cached kiwisolver-1.4.8-cp312-cp312-win_amd64.whl (71 kB)\n",
      "Using cached pillow-11.3.0-cp312-cp312-win_amd64.whl (7.0 MB)\n",
      "Using cached pyparsing-3.2.3-py3-none-any.whl (111 kB)\n",
      "Installing collected packages: pyparsing, pillow, kiwisolver, fonttools, cycler, contourpy, matplotlib\n",
      "Successfully installed contourpy-1.3.2 cycler-0.12.1 fonttools-4.58.5 kiwisolver-1.4.8 matplotlib-3.10.3 pillow-11.3.0 pyparsing-3.2.3\n",
      "Note: you may need to restart the kernel to use updated packages.\n"
     ]
    },
    {
     "name": "stderr",
     "output_type": "stream",
     "text": [
      "\n",
      "[notice] A new release of pip is available: 23.2.1 -> 25.1.1\n",
      "[notice] To update, run: python.exe -m pip install --upgrade pip\n"
     ]
    }
   ],
   "source": [
    "%pip install matplotlib"
   ]
  },
  {
   "cell_type": "code",
   "execution_count": 5,
   "id": "41440b7f-1caa-40f2-b113-43e7e671de7a",
   "metadata": {},
   "outputs": [],
   "source": [
    "import numpy as np\n",
    "import h5py\n",
    "import pandas as pd\n",
    "import matplotlib.pyplot as plt"
   ]
  },
  {
   "cell_type": "markdown",
   "id": "be4dd2d8-2e6b-4db0-b396-f8b870a0e68a",
   "metadata": {},
   "source": [
    "### Load data for machine learning"
   ]
  },
  {
   "cell_type": "code",
   "execution_count": 6,
   "id": "24c54df6-8a25-4920-9cce-0a85394c65d0",
   "metadata": {},
   "outputs": [
    {
     "name": "stdout",
     "output_type": "stream",
     "text": [
      "Shape of X (images): (1100000, 16, 16, 6)\n",
      "Shape of y (labels): (1100000,)\n",
      "Shape of X_test (images): (120000, 16, 16, 6)\n"
     ]
    }
   ],
   "source": [
    "# Path to your HDF5 file\n",
    "hdf5_file = \"train_data.h5\"\n",
    "\n",
    "# Open the HDF5 file\n",
    "with h5py.File(hdf5_file, 'r') as hdf:\n",
    "    # Extract the images (X)\n",
    "    X = np.array(hdf['images'])\n",
    "    \n",
    "    # Extract the labels (y)\n",
    "    y = np.array(hdf['labels'])\n",
    "\n",
    "# Check the shapes to ensure they are correct\n",
    "print(\"Shape of X (images):\", X.shape)\n",
    "print(\"Shape of y (labels):\", y.shape)\n",
    "\n",
    "hdf5_file_test = \"test_data.h5\"\n",
    "# Open the HDF5 file\n",
    "with h5py.File(hdf5_file_test, 'r') as hdf:\n",
    "    # Extract the images (X)\n",
    "    X_test = np.array(hdf['images'])\n",
    "\n",
    "# Check the shapes to ensure they are correct\n",
    "print(\"Shape of X_test (images):\", X_test.shape)"
   ]
  },
  {
   "cell_type": "markdown",
   "id": "9f04b6fc",
   "metadata": {},
   "source": [
    "### Visualizing the data"
   ]
  },
  {
   "cell_type": "code",
   "execution_count": 9,
   "id": "1082e76c",
   "metadata": {},
   "outputs": [
    {
     "data": {
      "image/png": "[encoded data removed]",
      "text/plain": [
       "<Figure size 640x480 with 9 Axes>"
      ]
     },
     "metadata": {},
     "output_type": "display_data"
    }
   ],
   "source": [
    "for i in range(9):\n",
    "    plt.subplot(3, 3, i+1)\n",
    "    plt.imshow(X_test[i][:, :,2], interpolation='nearest')\n",
    "plt.show()"
   ]
  },
  {
   "cell_type": "code",
   "execution_count": 12,
   "id": "a2885d42",
   "metadata": {},
   "outputs": [
    {
     "name": "stdout",
     "output_type": "stream",
     "text": [
      "Pixel values at (5, 10) in image 42:\n",
      "Blue: 1591\n",
      "Green: 1630\n",
      "Red: 1601\n",
      "NIR: 1608\n",
      "SWIR1: 775\n",
      "SWIR2: 790\n"
     ]
    }
   ],
   "source": [
    "pixel = X[42][5][10]\n",
    "print(\"Pixel values at (5, 10) in image 42:\")\n",
    "print(f\"Blue: {pixel[0]}\\nGreen: {pixel[1]}\\nRed: {pixel[2]}\")\n",
    "print(f\"NIR: {pixel[3]}\\nSWIR1: {pixel[4]}\\nSWIR2: {pixel[5]}\")"
   ]
  },
  {
   "cell_type": "code",
   "execution_count": 13,
   "id": "64cf2381",
   "metadata": {},
   "outputs": [
    {
     "data": {
      "image/png": "[encoded data removed]",
      "text/plain": [
       "<Figure size 640x480 with 1 Axes>"
      ]
     },
     "metadata": {},
     "output_type": "display_data"
    },
    {
     "data": {
      "image/png": "[encoded data removed]",
      "text/plain": [
       "<Figure size 640x480 with 1 Axes>"
      ]
     },
     "metadata": {},
     "output_type": "display_data"
    }
   ],
   "source": [
    "patch = X[0]\n",
    "\n",
    "#print(\"RGB Composite:\")\n",
    "rgb = np.stack([patch[:, :, 2], patch[:, :, 1], patch[:, :, 0]], axis=-1)\n",
    "rgb = (rgb - rgb.min()) / (rgb.max() - rgb.min())\n",
    "\n",
    "plt.imshow(rgb)\n",
    "plt.title(\"RGB Patch\")\n",
    "plt.axis('off')\n",
    "plt.show()\n",
    "\n",
    "#print(\"False Color (NIR-Red-Green, commonly used for vegetation)\")\n",
    "fc = np.stack([patch[:, :, 3], patch[:, :, 2], patch[:, :, 1]], axis=-1)\n",
    "fc = (fc - fc.min()) / (fc.max() - fc.min())\n",
    "\n",
    "plt.imshow(fc)\n",
    "plt.title(\"False Color Composite (NIR-Red-Green)\")\n",
    "plt.axis('off')\n",
    "plt.show()\n"
   ]
  },
  {
   "cell_type": "markdown",
   "id": "77ee615f-a496-4c17-b188-5f1d38ee96a8",
   "metadata": {},
   "source": [
    "### Balance data"
   ]
  },
  {
   "cell_type": "code",
   "execution_count": 3,
   "id": "cf89543b-2b49-4fc1-812b-18166da0553a",
   "metadata": {},
   "outputs": [
    {
     "name": "stdout",
     "output_type": "stream",
     "text": [
      "Number of 1's in balanced y: 100000\n",
      "Number of 0's in balanced y: 100000\n"
     ]
    }
   ],
   "source": [
    "# Step 1: Count the number of 1's in y\n",
    "num_ones = np.sum(y == 1)\n",
    "\n",
    "# Step 2: Get indices of 0's and 1's in y\n",
    "ones_indices = np.where(y == 1)[0]\n",
    "zeros_indices = np.where(y == 0)[0]\n",
    "\n",
    "# Step 3: Randomly sample the same number of 0's as there are 1's\n",
    "balanced_zero_indices = np.random.choice(zeros_indices, num_ones, replace=False)\n",
    "\n",
    "# Step 4: Combine indices of 0's and 1's\n",
    "balanced_indices = np.concatenate([ones_indices, balanced_zero_indices])\n",
    "\n",
    "# Step 5: Create balanced X and y\n",
    "X_balanced = X[balanced_indices]\n",
    "y_balanced = y[balanced_indices]\n",
    "\n",
    "# Display the number of 0's and 1's in the balanced y\n",
    "print(f\"Number of 1's in balanced y: {np.sum(y_balanced == 1)}\")\n",
    "print(f\"Number of 0's in balanced y: {np.sum(y_balanced == 0)}\")"
   ]
  },
  {
   "cell_type": "code",
   "execution_count": 4,
   "id": "b2f901ca-e28d-44c9-8a4a-fdf45d82880d",
   "metadata": {},
   "outputs": [],
   "source": [
    "from sklearn.utils import shuffle\n",
    "# Shuffle both X_balanced and y_balanced together\n",
    "X_train, y_train = shuffle(X_balanced, y_balanced, random_state=1)\n"
   ]
  },
  {
   "cell_type": "code",
   "execution_count": null,
   "id": "a5ce4ddf-eda2-4c5c-9b89-8bac4088c0ab",
   "metadata": {},
   "outputs": [],
   "source": []
  },
  {
   "cell_type": "code",
   "execution_count": 5,
   "id": "c586387a-076e-43d5-98a4-20ccdee287a7",
   "metadata": {},
   "outputs": [
    {
     "name": "stdout",
     "output_type": "stream",
     "text": [
      "(200000, 16, 16, 6)\n",
      "(120000, 16, 16, 6)\n"
     ]
    }
   ],
   "source": [
    "print(X_train.shape)\n",
    "print(X_test.shape)"
   ]
  },
  {
   "cell_type": "markdown",
   "id": "6ffb6798-0d92-4654-ae49-796c426339bf",
   "metadata": {},
   "source": [
    "### Baseline models\n",
    "#### Random Forest"
   ]
  },
  {
   "cell_type": "code",
   "execution_count": 6,
   "id": "4b84b0f6-20b8-417c-8727-fb88d29870c5",
   "metadata": {},
   "outputs": [
    {
     "name": "stdout",
     "output_type": "stream",
     "text": [
      "Baseline RF model training accuracy: 0.9999\n"
     ]
    }
   ],
   "source": [
    "from sklearn.ensemble import RandomForestClassifier\n",
    "from sklearn.metrics import accuracy_score\n",
    "from sklearn.model_selection import train_test_split\n",
    "\n",
    "# Flatten the image data\n",
    "X_train_flat = X_train.reshape(X_train.shape[0], -1)  \n",
    "X_test_flat = X_test.reshape(X_test.shape[0], -1)  \n",
    "\n",
    "# Define and train the baseline model\n",
    "rf = RandomForestClassifier(n_estimators=50, random_state=42)\n",
    "rf.fit(X_train_flat, y_train)\n",
    "\n",
    "y_pred_train = rf.predict(X_train_flat)\n",
    "y_pred_test = rf.predict(X_test_flat)\n",
    "\n",
    "\n",
    "# Evaluate the model\n",
    "train_accuracy_rf = accuracy_score(y_train, y_pred_train)\n",
    "\n",
    "## 0.9999 accuracy: OVERFITTING\n",
    "print(f'Baseline RF model training accuracy: {train_accuracy_rf:.4f}')\n"
   ]
  },
  {
   "cell_type": "code",
   "execution_count": null,
   "id": "7da25bcf-660e-4cc5-82b1-68be1f7ee44a",
   "metadata": {},
   "outputs": [],
   "source": []
  },
  {
   "cell_type": "markdown",
   "id": "669abbec-1080-48fa-bf2f-de9ae47d7ee6",
   "metadata": {},
   "source": [
    "#### Multi layer perceptron"
   ]
  },
  {
   "cell_type": "code",
   "execution_count": 7,
   "id": "d61eb7c7-936c-40dd-a928-c6a05604a7f7",
   "metadata": {},
   "outputs": [
    {
     "name": "stderr",
     "output_type": "stream",
     "text": [
      "/usr/local/lib/python3.8/dist-packages/sklearn/neural_network/_multilayer_perceptron.py:692: ConvergenceWarning: Stochastic Optimizer: Maximum iterations (20) reached and the optimization hasn't converged yet.\n",
      "  warnings.warn(\n"
     ]
    },
    {
     "name": "stdout",
     "output_type": "stream",
     "text": [
      "Baseline MLP model training accuracy: 0.6053\n"
     ]
    }
   ],
   "source": [
    "from sklearn.neural_network import MLPClassifier\n",
    "from sklearn.preprocessing import StandardScaler\n",
    "from sklearn.preprocessing import MinMaxScaler\n",
    "from sklearn.metrics import accuracy_score\n",
    "\n",
    "# Flatten the image data\n",
    "X_train_flat = X_train.reshape(X_train.shape[0], -1)  \n",
    "X_test_flat = X_test.reshape(X_test.shape[0], -1)\n",
    "\n",
    "# Scale the data to [0,1]\n",
    "scaler = MinMaxScaler()\n",
    "X_train_scaled = scaler.fit_transform(X_train_flat)\n",
    "X_test_scaled = scaler.transform(X_test_flat)\n",
    "\n",
    "# Define and train the MLP model\n",
    "mlp_model = MLPClassifier(hidden_layer_sizes=(50,), max_iter=20, random_state=42)\n",
    "mlp_model.fit(X_train_scaled, y_train)\n",
    "\n",
    "# Predict on the test set\n",
    "y_pred_train_mlp = mlp_model.predict(X_train_scaled)\n",
    "y_pred_test_mlp = mlp_model.predict(X_test_scaled)\n",
    "\n",
    "\n",
    "# Evaluate the model\n",
    "train_accuracy_mlp = accuracy_score(y_train, y_pred_train_mlp)\n",
    "\n",
    "\n",
    "## ~0.60 accuracy: UNDERFITTING\n",
    "print(f'Baseline MLP model training accuracy: {train_accuracy_mlp:.4f}')\n",
    "\n",
    "\n"
   ]
  },
  {
   "cell_type": "code",
   "execution_count": null,
   "id": "eccfc4fc-c4fd-4410-b34e-b01c5c732482",
   "metadata": {},
   "outputs": [],
   "source": []
  }
 ],
 "metadata": {
  "kernelspec": {
   "display_name": "venv",
   "language": "python",
   "name": "python3"
  },
  "language_info": {
   "codemirror_mode": {
    "name": "ipython",
    "version": 3
   },
   "file_extension": ".py",
   "mimetype": "text/x-python",
   "name": "python",
   "nbconvert_exporter": "python",
   "pygments_lexer": "ipython3",
   "version": "3.12.1"
  }
 },
 "nbformat": 4,
 "nbformat_minor": 5
}
